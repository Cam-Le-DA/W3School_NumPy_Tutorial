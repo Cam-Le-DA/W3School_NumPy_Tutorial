{
 "cells": [
  {
   "cell_type": "markdown",
   "id": "36e54252",
   "metadata": {},
   "source": [
    "### Searching Arrays\n",
    "You can search an array for a certain value, and return the indexes that get a match.\n",
    "\n",
    "To search an array, use the where() method."
   ]
  },
  {
   "cell_type": "code",
   "execution_count": 1,
   "id": "127074b7",
   "metadata": {},
   "outputs": [
    {
     "name": "stdout",
     "output_type": "stream",
     "text": [
      "(array([3, 5, 6], dtype=int64),)\n"
     ]
    }
   ],
   "source": [
    "# Find the indexes where the value is 4:\n",
    "import numpy as np\n",
    "\n",
    "arr = np.array([1,2,3,4,5,4,4])\n",
    "x = np.where(arr == 4)\n",
    "print(x)"
   ]
  },
  {
   "cell_type": "markdown",
   "id": "2a425e7c",
   "metadata": {},
   "source": [
    "The example above will return a tuple: (array([3, 5, 6],)\n",
    "\n",
    "Which means that the value 4 is present at index 3, 5, and 6."
   ]
  },
  {
   "cell_type": "code",
   "execution_count": 2,
   "id": "0d920f88",
   "metadata": {},
   "outputs": [
    {
     "name": "stdout",
     "output_type": "stream",
     "text": [
      "(array([1, 3, 5, 7], dtype=int64),)\n"
     ]
    }
   ],
   "source": [
    "# Find the indexes where the values are even:\n",
    "arr = np.array([1,2,3,4,5,6,7,8])\n",
    "x = np.where(arr%2 == 0)\n",
    "print(x)"
   ]
  },
  {
   "cell_type": "code",
   "execution_count": 3,
   "id": "0647b328",
   "metadata": {},
   "outputs": [
    {
     "name": "stdout",
     "output_type": "stream",
     "text": [
      "(array([0, 2, 4, 6], dtype=int64),)\n"
     ]
    }
   ],
   "source": [
    "# Find the indexes where the values are odd:\n",
    "\n",
    "x = np.where(arr%2 == 1)\n",
    "print(x)"
   ]
  },
  {
   "cell_type": "markdown",
   "id": "d99e8001",
   "metadata": {},
   "source": [
    "### Search Sorted\n",
    "There is a method called searchsorted() which performs a binary search in the array, and returns the index where the specified value would be inserted to maintain the search order.\n",
    "\n",
    "The searchsorted() method is assumed to be used on sorted arrays."
   ]
  },
  {
   "cell_type": "code",
   "execution_count": 4,
   "id": "28e6b325",
   "metadata": {},
   "outputs": [
    {
     "name": "stdout",
     "output_type": "stream",
     "text": [
      "1\n"
     ]
    }
   ],
   "source": [
    "# Find the indexes where the value 7 should be inserted:\n",
    "arr = np.array([6,7,8,9])\n",
    "\n",
    "x = np.searchsorted(arr, 7)\n",
    "print(x)"
   ]
  },
  {
   "cell_type": "markdown",
   "id": "50d1b201",
   "metadata": {},
   "source": [
    "Example explained: The number 7 should be inserted on index 1 to remain the sort order.\n",
    "\n",
    "The method starts the search from the left and returns the first index where the number 7 is no longer larger than the next value.\n",
    "\n",
    "### Search From the Right Side\n",
    "By default the left most index is returned, but we can give side='right' to return the right most index instead."
   ]
  },
  {
   "cell_type": "code",
   "execution_count": 5,
   "id": "881cfabf",
   "metadata": {},
   "outputs": [
    {
     "name": "stdout",
     "output_type": "stream",
     "text": [
      "2\n"
     ]
    }
   ],
   "source": [
    "# Find the indexes where the value 7 should be inserted, starting from the right:\n",
    "\n",
    "x = np.searchsorted(arr, 7, side = 'right')\n",
    "print(x)"
   ]
  },
  {
   "cell_type": "markdown",
   "id": "cc6db0af",
   "metadata": {},
   "source": [
    "Example explained: The number 7 should be inserted on index 2 to remain the sort order.\n",
    "\n",
    "The method starts the search from the right and returns the first index where the number 7 is no longer less than the next value.\n",
    "\n",
    "### Multiple Values\n",
    "To search for more than one value, use an array with the specified values."
   ]
  },
  {
   "cell_type": "code",
   "execution_count": 10,
   "id": "63b0d487",
   "metadata": {},
   "outputs": [
    {
     "name": "stdout",
     "output_type": "stream",
     "text": [
      "[1 2 3]\n"
     ]
    }
   ],
   "source": [
    "# Find the indexes where the values 2, 4, and 6 should be inserted:\n",
    "\n",
    "arr = np.array([1,3,5,7])\n",
    "x = np.searchsorted(arr, [2,4,6])\n",
    "print(x)"
   ]
  },
  {
   "cell_type": "markdown",
   "id": "2169a8aa",
   "metadata": {},
   "source": [
    "The return value is an array: [1 2 3] containing the three indexes where 2, 4, 6 would be inserted in the original array to maintain the order."
   ]
  },
  {
   "cell_type": "code",
   "execution_count": null,
   "id": "873eba2d",
   "metadata": {},
   "outputs": [],
   "source": []
  }
 ],
 "metadata": {
  "kernelspec": {
   "display_name": "Python 3 (ipykernel)",
   "language": "python",
   "name": "python3"
  },
  "language_info": {
   "codemirror_mode": {
    "name": "ipython",
    "version": 3
   },
   "file_extension": ".py",
   "mimetype": "text/x-python",
   "name": "python",
   "nbconvert_exporter": "python",
   "pygments_lexer": "ipython3",
   "version": "3.9.12"
  }
 },
 "nbformat": 4,
 "nbformat_minor": 5
}
