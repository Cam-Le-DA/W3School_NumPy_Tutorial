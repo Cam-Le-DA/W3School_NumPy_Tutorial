{
 "cells": [
  {
   "cell_type": "markdown",
   "id": "b7c05f5c",
   "metadata": {},
   "source": [
    "### Normal Distribution\n",
    "The Normal Distribution is one of the most important distributions.\n",
    "\n",
    "It is also called the Gaussian Distribution after the German mathematician Carl Friedrich Gauss.\n",
    "\n",
    "It fits the probability distribution of many events, eg. IQ Scores, Heartbeat etc.\n",
    "\n",
    "Use the random.normal() method to get a Normal Data Distribution.\n",
    "\n",
    "It has three parameters:\n",
    "\n",
    "loc - (Mean) where the peak of the bell exists.\n",
    "\n",
    "scale - (Standard Deviation) how flat the graph distribution should be.\n",
    "\n",
    "size - The shape of the returned array."
   ]
  },
  {
   "cell_type": "code",
   "execution_count": 1,
   "id": "745fb214",
   "metadata": {},
   "outputs": [
    {
     "name": "stdout",
     "output_type": "stream",
     "text": [
      "[[ 1.18281238  0.57154162  0.11168759]\n",
      " [-0.84032733 -0.8937965  -0.76699504]]\n"
     ]
    }
   ],
   "source": [
    "# Generate a random normal distribution of size 2x3:\n",
    "from numpy import random\n",
    "\n",
    "x = random.normal(size = (2,3))\n",
    "print(x)"
   ]
  },
  {
   "cell_type": "code",
   "execution_count": 2,
   "id": "5b6a643c",
   "metadata": {},
   "outputs": [
    {
     "name": "stdout",
     "output_type": "stream",
     "text": [
      "[[ 1.56657754  3.98007666 -0.78831668]\n",
      " [ 3.63709523  1.73952553  1.85665403]]\n"
     ]
    }
   ],
   "source": [
    "# Generate a random normal distribution of size 2x3 with mean at 1 and standard deviation of 2:\n",
    "\n",
    "x = random.normal(loc = 1, scale = 2, size = (2,3))\n",
    "print(x)"
   ]
  },
  {
   "cell_type": "markdown",
   "id": "a1782604",
   "metadata": {},
   "source": [
    "### Visualization of Normal Distribution"
   ]
  },
  {
   "cell_type": "code",
   "execution_count": 3,
   "id": "a662f18b",
   "metadata": {},
   "outputs": [
    {
     "name": "stderr",
     "output_type": "stream",
     "text": [
      "C:\\Users\\13068\\anaconda3\\lib\\site-packages\\seaborn\\distributions.py:2619: FutureWarning: `distplot` is a deprecated function and will be removed in a future version. Please adapt your code to use either `displot` (a figure-level function with similar flexibility) or `kdeplot` (an axes-level function for kernel density plots).\n",
      "  warnings.warn(msg, FutureWarning)\n"
     ]
    },
    {
     "data": {
      "image/png": "[encoded data removed]",
      "text/plain": [
       "<Figure size 432x288 with 1 Axes>"
      ]
     },
     "metadata": {
      "needs_background": "light"
     },
     "output_type": "display_data"
    }
   ],
   "source": [
    "from numpy import random\n",
    "import matplotlib.pyplot as plt\n",
    "import seaborn as sns\n",
    "\n",
    "sns.distplot(random.normal(size = 1000), hist = False)\n",
    "plt.show()"
   ]
  },
  {
   "cell_type": "markdown",
   "id": "dd1eb9cc",
   "metadata": {},
   "source": [
    "Note: The curve of a Normal Distribution is also known as the Bell Curve because of the bell-shaped curve."
   ]
  },
  {
   "cell_type": "code",
   "execution_count": null,
   "id": "ece7093f",
   "metadata": {},
   "outputs": [],
   "source": []
  }
 ],
 "metadata": {
  "kernelspec": {
   "display_name": "Python 3 (ipykernel)",
   "language": "python",
   "name": "python3"
  },
  "language_info": {
   "codemirror_mode": {
    "name": "ipython",
    "version": 3
   },
   "file_extension": ".py",
   "mimetype": "text/x-python",
   "name": "python",
   "nbconvert_exporter": "python",
   "pygments_lexer": "ipython3",
   "version": "3.9.12"
  }
 },
 "nbformat": 4,
 "nbformat_minor": 5
}
