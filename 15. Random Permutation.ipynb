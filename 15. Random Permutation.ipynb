{
 "cells": [
  {
   "cell_type": "markdown",
   "id": "a5e7e2fd",
   "metadata": {},
   "source": [
    "### Random Permutations of Elements\n",
    "A permutation refers to an arrangement of elements. e.g. [3, 2, 1] is a permutation of [1, 2, 3] and vice-versa.\n",
    "\n",
    "The NumPy Random module provides two methods for this: shuffle() and permutation().\n",
    "\n",
    "### Shuffling Arrays\n",
    "Shuffle means changing arrangement of elements in-place. i.e. in the array itself."
   ]
  },
  {
   "cell_type": "code",
   "execution_count": 1,
   "id": "e99ef6ac",
   "metadata": {},
   "outputs": [
    {
     "name": "stdout",
     "output_type": "stream",
     "text": [
      "[5 1 4 2 3]\n"
     ]
    }
   ],
   "source": [
    "# Randomly shuffle elements of following array:\n",
    "\n",
    "import numpy as np\n",
    "import random\n",
    "\n",
    "arr = np.array([1,2,3,4,5])\n",
    "random.shuffle(arr)\n",
    "print(arr)"
   ]
  },
  {
   "cell_type": "markdown",
   "id": "7e4a3e91",
   "metadata": {},
   "source": [
    "The shuffle() method makes changes to the original array.\n",
    "\n",
    "### Generating Permutation of Arrays"
   ]
  },
  {
   "cell_type": "code",
   "execution_count": 7,
   "id": "2d012214",
   "metadata": {
    "scrolled": true
   },
   "outputs": [
    {
     "name": "stdout",
     "output_type": "stream",
     "text": [
      "[2 4 3 5 1]\n"
     ]
    }
   ],
   "source": [
    "# Generate a random permutation of elements of following array:\n",
    "import numpy as np\n",
    "from numpy import random\n",
    "arr = np.array([1,2,3,4,5])\n",
    "print(random.permutation(arr))"
   ]
  },
  {
   "cell_type": "markdown",
   "id": "4e98c85d",
   "metadata": {},
   "source": [
    "The permutation() method returns a re-arranged array (and leaves the original array un-changed)."
   ]
  },
  {
   "cell_type": "code",
   "execution_count": null,
   "id": "0f5d9f16",
   "metadata": {},
   "outputs": [],
   "source": []
  }
 ],
 "metadata": {
  "kernelspec": {
   "display_name": "Python 3 (ipykernel)",
   "language": "python",
   "name": "python3"
  },
  "language_info": {
   "codemirror_mode": {
    "name": "ipython",
    "version": 3
   },
   "file_extension": ".py",
   "mimetype": "text/x-python",
   "name": "python",
   "nbconvert_exporter": "python",
   "pygments_lexer": "ipython3",
   "version": "3.9.12"
  }
 },
 "nbformat": 4,
 "nbformat_minor": 5
}
