{
 "cells": [
  {
   "cell_type": "markdown",
   "id": "9570f5fd",
   "metadata": {},
   "source": [
    "### Splitting NumPy Arrays\n",
    "Splitting is reverse operation of Joining.\n",
    "\n",
    "Joining merges multiple arrays into one and Splitting breaks one array into multiple.\n",
    "\n",
    "We use array_split() for splitting arrays, we pass it the array we want to split and the number of splits."
   ]
  },
  {
   "cell_type": "code",
   "execution_count": 1,
   "id": "a30f7704",
   "metadata": {},
   "outputs": [
    {
     "name": "stdout",
     "output_type": "stream",
     "text": [
      "[array([1, 2]), array([3, 4]), array([5, 6])]\n"
     ]
    }
   ],
   "source": [
    "# Split the array in 3 parts:\n",
    "\n",
    "import numpy as np\n",
    "arr = np.array([1,2,3,4,5,6])\n",
    "newarr = np.array_split(arr,3)\n",
    "print(newarr)\n",
    "\n",
    "# Note: The return value is an array containing three arrays."
   ]
  },
  {
   "cell_type": "markdown",
   "id": "b75f1c5e",
   "metadata": {},
   "source": [
    "If the array has less elements than required, it will adjust from the end accordingly."
   ]
  },
  {
   "cell_type": "code",
   "execution_count": 2,
   "id": "feb7c4b9",
   "metadata": {},
   "outputs": [
    {
     "name": "stdout",
     "output_type": "stream",
     "text": [
      "[array([1, 2]), array([3, 4]), array([5]), array([6])]\n"
     ]
    }
   ],
   "source": [
    "# Split the array in 4 parts:\n",
    "\n",
    "newarr = np.array_split(arr, 4)\n",
    "print(newarr)"
   ]
  },
  {
   "cell_type": "markdown",
   "id": "90eb10d2",
   "metadata": {},
   "source": [
    "Note: We also have the method split() available but it will not adjust the elements when elements are less in source array for splitting like in example above, array_split() worked properly but split() would fail."
   ]
  },
  {
   "cell_type": "markdown",
   "id": "b084679c",
   "metadata": {},
   "source": [
    "### Split Into Arrays\n",
    "The return value of the array_split() method is an array containing each of the split as an array.\n",
    "\n",
    "If you split an array into 3 arrays, you can access them from the result just like any array element:"
   ]
  },
  {
   "cell_type": "code",
   "execution_count": 3,
   "id": "b04ef02d",
   "metadata": {},
   "outputs": [
    {
     "name": "stdout",
     "output_type": "stream",
     "text": [
      "[1 2]\n",
      "[3 4]\n",
      "[5 6]\n"
     ]
    }
   ],
   "source": [
    "# Access the splitted arrays:\n",
    "\n",
    "newarr = np.array_split(arr, 3)\n",
    "print(newarr[0])\n",
    "print(newarr[1])\n",
    "print(newarr[2])"
   ]
  },
  {
   "cell_type": "markdown",
   "id": "35ddee63",
   "metadata": {},
   "source": [
    "### Splitting 2-D Arrays\n",
    "Use the same syntax when splitting 2-D arrays.\n",
    "\n",
    "Use the array_split() method, pass in the array you want to split and the number of splits you want to do."
   ]
  },
  {
   "cell_type": "code",
   "execution_count": 5,
   "id": "977fe958",
   "metadata": {},
   "outputs": [
    {
     "name": "stdout",
     "output_type": "stream",
     "text": [
      "[array([[1, 2, 3],\n",
      "       [4, 5, 6]]), array([[ 7,  8,  9],\n",
      "       [10, 11, 12]]), array([[13, 14, 15],\n",
      "       [16, 17, 18]])]\n"
     ]
    }
   ],
   "source": [
    "# Split the 2-D array into three 2-D arrays.\n",
    "arr = np.array([[1, 2, 3], [4, 5, 6], [7, 8, 9], [10, 11, 12], [13, 14, 15], [16, 17, 18]])\n",
    "newarr = np.array_split(arr, 3)\n",
    "print(newarr)"
   ]
  },
  {
   "cell_type": "markdown",
   "id": "e20043c5",
   "metadata": {},
   "source": [
    "The example above returns three 2-D arrays.\n",
    "\n",
    "In addition, you can specify which axis you want to do the split around.\n",
    "\n",
    "The example below also returns three 2-D arrays, but they are split along the row (axis=1)."
   ]
  },
  {
   "cell_type": "code",
   "execution_count": 6,
   "id": "350ff90f",
   "metadata": {},
   "outputs": [
    {
     "name": "stdout",
     "output_type": "stream",
     "text": [
      "[array([[ 1],\n",
      "       [ 4],\n",
      "       [ 7],\n",
      "       [10],\n",
      "       [13],\n",
      "       [16]]), array([[ 2],\n",
      "       [ 5],\n",
      "       [ 8],\n",
      "       [11],\n",
      "       [14],\n",
      "       [17]]), array([[ 3],\n",
      "       [ 6],\n",
      "       [ 9],\n",
      "       [12],\n",
      "       [15],\n",
      "       [18]])]\n"
     ]
    }
   ],
   "source": [
    "# Split the 2-D array into three 2-D arrays along rows.\n",
    "\n",
    "newarr = np.array_split(arr, 3, axis = 1)\n",
    "print(newarr)"
   ]
  },
  {
   "cell_type": "markdown",
   "id": "8aedc821",
   "metadata": {},
   "source": [
    "An alternate solution is using hsplit() opposite of hstack()"
   ]
  },
  {
   "cell_type": "code",
   "execution_count": 7,
   "id": "d4982445",
   "metadata": {},
   "outputs": [
    {
     "name": "stdout",
     "output_type": "stream",
     "text": [
      "[array([[ 1],\n",
      "       [ 4],\n",
      "       [ 7],\n",
      "       [10],\n",
      "       [13],\n",
      "       [16]]), array([[ 2],\n",
      "       [ 5],\n",
      "       [ 8],\n",
      "       [11],\n",
      "       [14],\n",
      "       [17]]), array([[ 3],\n",
      "       [ 6],\n",
      "       [ 9],\n",
      "       [12],\n",
      "       [15],\n",
      "       [18]])]\n"
     ]
    }
   ],
   "source": [
    "# Use the hsplit() method to split the 2-D array into three 2-D arrays along rows.\n",
    "\n",
    "newarr = np.hsplit(arr,3)\n",
    "print(newarr)"
   ]
  },
  {
   "cell_type": "markdown",
   "id": "cb21ba41",
   "metadata": {},
   "source": [
    "Note: Similar alternates to vstack() and dstack() are available as vsplit() and dsplit()."
   ]
  },
  {
   "cell_type": "code",
   "execution_count": 9,
   "id": "17d7f4b9",
   "metadata": {},
   "outputs": [
    {
     "name": "stdout",
     "output_type": "stream",
     "text": [
      "[array([[1, 2, 3],\n",
      "       [4, 5, 6]]), array([[ 7,  8,  9],\n",
      "       [10, 11, 12]]), array([[13, 14, 15],\n",
      "       [16, 17, 18]])]\n"
     ]
    }
   ],
   "source": [
    "newarr = np.vsplit(arr, 3)\n",
    "print(newarr)"
   ]
  },
  {
   "cell_type": "code",
   "execution_count": 10,
   "id": "0c25b347",
   "metadata": {},
   "outputs": [
    {
     "ename": "ValueError",
     "evalue": "dsplit only works on arrays of 3 or more dimensions",
     "output_type": "error",
     "traceback": [
      "\u001b[1;31m---------------------------------------------------------------------------\u001b[0m",
      "\u001b[1;31mValueError\u001b[0m                                Traceback (most recent call last)",
      "Input \u001b[1;32mIn [10]\u001b[0m, in \u001b[0;36m<cell line: 1>\u001b[1;34m()\u001b[0m\n\u001b[1;32m----> 1\u001b[0m newarr \u001b[38;5;241m=\u001b[39m \u001b[43mnp\u001b[49m\u001b[38;5;241;43m.\u001b[39;49m\u001b[43mdsplit\u001b[49m\u001b[43m(\u001b[49m\u001b[43marr\u001b[49m\u001b[43m,\u001b[49m\u001b[43m \u001b[49m\u001b[38;5;241;43m3\u001b[39;49m\u001b[43m)\u001b[49m\n\u001b[0;32m      2\u001b[0m \u001b[38;5;28mprint\u001b[39m(newarr)\n",
      "File \u001b[1;32m<__array_function__ internals>:5\u001b[0m, in \u001b[0;36mdsplit\u001b[1;34m(*args, **kwargs)\u001b[0m\n",
      "File \u001b[1;32m~\\anaconda3\\lib\\site-packages\\numpy\\lib\\shape_base.py:1035\u001b[0m, in \u001b[0;36mdsplit\u001b[1;34m(ary, indices_or_sections)\u001b[0m\n\u001b[0;32m    996\u001b[0m \u001b[38;5;124;03m\"\"\"\u001b[39;00m\n\u001b[0;32m    997\u001b[0m \u001b[38;5;124;03mSplit array into multiple sub-arrays along the 3rd axis (depth).\u001b[39;00m\n\u001b[0;32m    998\u001b[0m \n\u001b[1;32m   (...)\u001b[0m\n\u001b[0;32m   1032\u001b[0m \u001b[38;5;124;03marray([], shape=(2, 2, 0), dtype=float64)]\u001b[39;00m\n\u001b[0;32m   1033\u001b[0m \u001b[38;5;124;03m\"\"\"\u001b[39;00m\n\u001b[0;32m   1034\u001b[0m \u001b[38;5;28;01mif\u001b[39;00m _nx\u001b[38;5;241m.\u001b[39mndim(ary) \u001b[38;5;241m<\u001b[39m \u001b[38;5;241m3\u001b[39m:\n\u001b[1;32m-> 1035\u001b[0m     \u001b[38;5;28;01mraise\u001b[39;00m \u001b[38;5;167;01mValueError\u001b[39;00m(\u001b[38;5;124m'\u001b[39m\u001b[38;5;124mdsplit only works on arrays of 3 or more dimensions\u001b[39m\u001b[38;5;124m'\u001b[39m)\n\u001b[0;32m   1036\u001b[0m \u001b[38;5;28;01mreturn\u001b[39;00m split(ary, indices_or_sections, \u001b[38;5;241m2\u001b[39m)\n",
      "\u001b[1;31mValueError\u001b[0m: dsplit only works on arrays of 3 or more dimensions"
     ]
    }
   ],
   "source": [
    "newarr = np.dsplit(arr, 3)\n",
    "print(newarr)"
   ]
  },
  {
   "cell_type": "code",
   "execution_count": null,
   "id": "919820ff",
   "metadata": {},
   "outputs": [],
   "source": []
  }
 ],
 "metadata": {
  "kernelspec": {
   "display_name": "Python 3 (ipykernel)",
   "language": "python",
   "name": "python3"
  },
  "language_info": {
   "codemirror_mode": {
    "name": "ipython",
    "version": 3
   },
   "file_extension": ".py",
   "mimetype": "text/x-python",
   "name": "python",
   "nbconvert_exporter": "python",
   "pygments_lexer": "ipython3",
   "version": "3.9.12"
  }
 },
 "nbformat": 4,
 "nbformat_minor": 5
}
